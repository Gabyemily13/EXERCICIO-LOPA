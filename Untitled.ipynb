{
 "cells": [
  {
   "cell_type": "code",
   "execution_count": 29,
   "id": "996d47ce-b1ba-463d-b997-9eeb1dffa622",
   "metadata": {},
   "outputs": [
    {
     "name": "stdin",
     "output_type": "stream",
     "text": [
      "Digite a nota 1 do aluno 1:  1\n",
      "Digite a nota 2 do aluno 1:  1\n",
      "Digite a nota 1 do aluno 2:  1\n",
      "Digite a nota 2 do aluno 2:  1\n",
      "Digite a nota 1 do aluno 3:  1\n",
      "Digite a nota 2 do aluno 3:  1\n",
      "Digite a nota 1 do aluno 4:  1\n",
      "Digite a nota 2 do aluno 4:  1\n",
      "Digite a nota 1 do aluno 5:  1\n",
      "Digite a nota 2 do aluno 5:  1\n",
      "Digite a nota 1 do aluno 6:  1\n",
      "Digite a nota 2 do aluno 6:  1\n"
     ]
    },
    {
     "name": "stdout",
     "output_type": "stream",
     "text": [
      "Aluno 1: Média = 1.0, Estado: Reprovado\n",
      "Aluno 2: Média = 1.0, Estado: Reprovado\n",
      "Aluno 3: Média = 1.0, Estado: Reprovado\n",
      "Aluno 4: Média = 1.0, Estado: Reprovado\n",
      "Aluno 5: Média = 1.0, Estado: Reprovado\n",
      "Aluno 6: Média = 1.0, Estado: Reprovado\n",
      "Média da classe = 1.0\n",
      "Número de alunos aprovados: 0\n",
      "Número de alunos reprovados: 6\n",
      "Número de alunos em exame: 0\n"
     ]
    }
   ],
   "source": [
    "notas = []\n",
    "\n",
    "for i in range(6):\n",
    "    nota1 = int(input(f'Digite a nota 1 do aluno {i+1}: '))\n",
    "    nota2 = int(input(f'Digite a nota 2 do aluno {i+1}: '))\n",
    "    notas.append([nota1, nota2]) \n",
    "\n",
    "soma_das_medias = 0\n",
    "aprovados = 0\n",
    "reprovados = 0\n",
    "exame = 0\n",
    "\n",
    "for i, (nota1, nota2) in enumerate(notas):\n",
    "    resultado = (nota1 + nota2) / 2\n",
    "    soma_das_medias += resultado  \n",
    "\n",
    "    if resultado <= 3:\n",
    "        estado = 'Reprovado'\n",
    "        reprovados += 1\n",
    "    elif 3.1 <= resultado <= 7:\n",
    "        estado = 'Exame'\n",
    "        exame += 1\n",
    "    elif 7.1 <= resultado <= 10:\n",
    "        estado = 'Aprovado'\n",
    "        aprovados += 1\n",
    "\n",
    "    print(f'Aluno {i+1}: Média = {resultado}, Estado: {estado}')\n",
    "\n",
    "media_classe = soma_das_medias / len(notas)\n",
    "print(f'Média da classe = {media_classe}')\n",
    "print(f'Número de alunos aprovados: {aprovados}')\n",
    "print(f'Número de alunos reprovados: {reprovados}')\n",
    "print(f'Número de alunos em exame: {exame}')"
   ]
  },
  {
   "cell_type": "code",
   "execution_count": null,
   "id": "bd9580fe-95fb-41fc-9b79-1ee4e5d2e2d0",
   "metadata": {},
   "outputs": [],
   "source": []
  }
 ],
 "metadata": {
  "kernelspec": {
   "display_name": "Python 3 (ipykernel)",
   "language": "python",
   "name": "python3"
  },
  "language_info": {
   "codemirror_mode": {
    "name": "ipython",
    "version": 3
   },
   "file_extension": ".py",
   "mimetype": "text/x-python",
   "name": "python",
   "nbconvert_exporter": "python",
   "pygments_lexer": "ipython3",
   "version": "3.12.7"
  }
 },
 "nbformat": 4,
 "nbformat_minor": 5
}
